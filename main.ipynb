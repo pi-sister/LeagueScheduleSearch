{
 "cells": [
  {
   "cell_type": "code",
   "execution_count": 20,
   "metadata": {},
   "outputs": [],
   "source": [
    "# # Installations for your venv\n",
    "# %pip install numpy\n",
    "# %pip install pandas\n",
    "   # to split strings using regex\n"
   ]
  },
  {
   "cell_type": "markdown",
   "metadata": {},
   "source": [
    "# Imports and Variables"
   ]
  },
  {
   "cell_type": "code",
   "execution_count": 21,
   "metadata": {},
   "outputs": [],
   "source": [
    "import os\n",
    "import sys\n",
    "import re\n",
    "import pandas as pd\n",
    "import numpy as np\n",
    "import argparse"
   ]
  },
  {
   "cell_type": "code",
   "execution_count": 22,
   "metadata": {},
   "outputs": [
    {
     "name": "stdout",
     "output_type": "stream",
     "text": [
      "File chosen = ShortExample.txt\n",
      "Integer inputs = [1, 0, 1, 0, 10, 10, 10, 10]\n"
     ]
    }
   ],
   "source": [
    "file_name = input('File')\n",
    "integers = input('Weights and Penalties:').split(' ')\n",
    "integers = list(map(int, integers))\n",
    "print(f'File chosen = {file_name}')\n",
    "print(f'Integer inputs = {integers}')\n",
    "# sys.argv = [input1].append(input2)"
   ]
  },
  {
   "cell_type": "markdown",
   "metadata": {},
   "source": [
    "Parse command line"
   ]
  },
  {
   "cell_type": "code",
   "execution_count": 23,
   "metadata": {},
   "outputs": [
    {
     "name": "stdout",
     "output_type": "stream",
     "text": [
      "['', ' \\nShortExample \\n\\n', ' \\nMO, 8:00, 3, 2 \\nMO, 9:00,3,2 \\nTU, 9:30, 2, 1 \\n\\n', ' \\nMO, 8:00, 4, 2 \\nTU, 10:00,2,1 \\nFR, 10:00, 2, 1 \\n\\n', ' \\nCMSA U13T3 DIV  01 \\nCMSA U13T3 DIV 02 \\nCUSA O18 DIV 01 \\nCMSA U17T1 DIV 01 \\n\\n', ' \\nCMSA U13T3 DIV 01 PRC 01 \\nCMSA U13T3 DIV 02 OPN 02 \\nCUSA O18 DIV 01 PRC 01 \\nCMSA U17T1 PRC 01 \\n\\n', ' \\nCMSA U13T3 DIV 01 PRC 01, CMSA U13T3 DIV 02 OPN 02 \\nCMSA U17T1 DIV 01, CMSA U13T3 DIV 01 \\nCMSA  U17T1 DIV 01, CMSA U13T3 DIV 02 \\nCMSA U17T1 PRC 01, CMSA U13T3 DIV 02 \\nCMSA U13T3 DIV 01, CMSA U17T1 PRC 01 \\n\\n', ' \\nCMSA U13T3 DIV 01, MO, 8:00 \\n\\n', ' \\nTU, 9:30, CMSA U13T3 DIV 01, 10 \\nMO, 8:00, CMSA U13T3 DIV   01 PRC 01, 3 \\nTU, 9:30, CMSA U13T3 DIV 02, 10 \\nTU, 10:00, CMSA U13T3 DIV 01 OPN 02, 5 \\nMO, 8:00, CMSA U13T3 DIV 02 OPN 02, 1 \\nMO, 10:00, CMSA U13T3 DIV 02 OPN 02, 7 \\n\\n', ' \\nCUSA O18 DIV 01, CMSA U17T1 DIV 01 \\n\\n', ' \\nCUSA O18 DIV 01, MO, 8:00 \\nCUSA O18 DIV 01 PRC 01, FR, 10:00']\n"
     ]
    }
   ],
   "source": [
    "# Command line parser command line input is always file name and integers.\n",
    "# parser = argparse.ArgumentParser(description='Process file name and some integers.')\n",
    "# parser.add_argument('file', type=str, help='file name')\n",
    "# parser.add_argument('integers', type=int, nargs=8, help='4 integers for weight values and 4 integers for penalty values')\n",
    "# args = parser.parse_args()\n",
    "\n",
    "# check if file exists\n",
    "if os.path.isfile(file_name):\n",
    "    with open(file_name, \"r\") as inputfile:   # opens file     \n",
    "        data = inputfile.read()          # starts reading file\n",
    "        # splits the file based on the key words\n",
    "        \n",
    "        split_data = re.split(r\"Name:|Game slots:|Practice slots:|Games:|Practices:|Not compatible:|Unwanted:|Preferences:|Pair:|Partial assignments:\", data, flags=re.IGNORECASE)\n",
    "        print(split_data)\n",
    "else: \n",
    "    print(\"Unable to open file. Please try again.\")\n",
    "    \n",
    "# check if integers are positive\n",
    "if any(i < 0 for i in integers):\n",
    "    print(\"Please enter positive integers.\")\n",
    "else:\n",
    "    w_minfilled, w_pref, w_pair, w_secdiff, pen_gamemin, pen_pracmin, pen_notpaired, pen_section = integers\n"
   ]
  },
  {
   "cell_type": "markdown",
   "metadata": {},
   "source": [
    "## Parse file - Using DataFrames"
   ]
  },
  {
   "cell_type": "code",
   "execution_count": 61,
   "metadata": {},
   "outputs": [
    {
     "name": "stdout",
     "output_type": "stream",
     "text": [
      "MO,8:00,3,2\n",
      "MO,9:00,3,2\n",
      "TU,9:30,2,1\n",
      "MO,8:00,4,2\n",
      "TU,10:00,2,1\n",
      "FR,10:00,2,1\n"
     ]
    }
   ],
   "source": [
    "def process_slots(data: str, columns: list, event_type: str):\n",
    "    \"\"\"\n",
    "    Processes a string of slot data and converts it into a pandas DataFrame.\n",
    "    Args:\n",
    "        data (str): A string containing slot data, with each slot separated by a newline.\n",
    "        columns (list): A list of column names for the DataFrame.\n",
    "        event_type (str): A character indicating either games 'G' or practices 'P'\n",
    "    Returns:\n",
    "        pd.DataFrame: A DataFrame containing the processed slot data.\n",
    "    \"\"\"\n",
    "    slots = []\n",
    "    indices = []\n",
    "    for slot in data.split('\\n'):\n",
    "        slot = slot.replace(' ','')\n",
    "        if len(slot) > 0:\n",
    "            print(slot)\n",
    "            day, time, max, min = slot.strip().split(',')\n",
    "            # if not properties == [''] :\n",
    "            slots.append({'Day': day,\n",
    "                          'Start': time,\n",
    "                          'Max': max,\n",
    "                          'Min': min})\n",
    "            indices.append(day + time)\n",
    "    df = pd.DataFrame(slots, columns=columns, index=indices)\n",
    "    df['Invalid_Assign'] = np.empty((len(df), 0)).tolist()\n",
    "    df['Type'] = event_type\n",
    "    return df\n",
    "\n",
    "# Process game slots\n",
    "game_slots = process_slots(split_data[2], ['Day', 'Start', 'Max', 'Min', 'Invalid_Assign'], 'G')\n",
    "\n",
    "# Process practice slots\n",
    "practice_slots = process_slots(split_data[3], ['Day', 'Start', 'Max', 'Min', 'Invalid_Assign'], 'P')"
   ]
  },
  {
   "cell_type": "code",
   "execution_count": 62,
   "metadata": {},
   "outputs": [
    {
     "data": {
      "text/html": [
       "<div>\n",
       "<style scoped>\n",
       "    .dataframe tbody tr th:only-of-type {\n",
       "        vertical-align: middle;\n",
       "    }\n",
       "\n",
       "    .dataframe tbody tr th {\n",
       "        vertical-align: top;\n",
       "    }\n",
       "\n",
       "    .dataframe thead th {\n",
       "        text-align: right;\n",
       "    }\n",
       "</style>\n",
       "<table border=\"1\" class=\"dataframe\">\n",
       "  <thead>\n",
       "    <tr style=\"text-align: right;\">\n",
       "      <th></th>\n",
       "      <th>Day</th>\n",
       "      <th>Start</th>\n",
       "      <th>Max</th>\n",
       "      <th>Min</th>\n",
       "      <th>Invalid_Assign</th>\n",
       "      <th>Type</th>\n",
       "    </tr>\n",
       "  </thead>\n",
       "  <tbody>\n",
       "    <tr>\n",
       "      <th>MO8:00</th>\n",
       "      <td>MO</td>\n",
       "      <td>8:00</td>\n",
       "      <td>3</td>\n",
       "      <td>2</td>\n",
       "      <td>[]</td>\n",
       "      <td>G</td>\n",
       "    </tr>\n",
       "    <tr>\n",
       "      <th>MO9:00</th>\n",
       "      <td>MO</td>\n",
       "      <td>9:00</td>\n",
       "      <td>3</td>\n",
       "      <td>2</td>\n",
       "      <td>[]</td>\n",
       "      <td>G</td>\n",
       "    </tr>\n",
       "    <tr>\n",
       "      <th>TU9:30</th>\n",
       "      <td>TU</td>\n",
       "      <td>9:30</td>\n",
       "      <td>2</td>\n",
       "      <td>1</td>\n",
       "      <td>[]</td>\n",
       "      <td>G</td>\n",
       "    </tr>\n",
       "  </tbody>\n",
       "</table>\n",
       "</div>"
      ],
      "text/plain": [
       "       Day Start Max Min Invalid_Assign Type\n",
       "MO8:00  MO  8:00   3   2             []    G\n",
       "MO9:00  MO  9:00   3   2             []    G\n",
       "TU9:30  TU  9:30   2   1             []    G"
      ]
     },
     "execution_count": 62,
     "metadata": {},
     "output_type": "execute_result"
    }
   ],
   "source": [
    "game_slots"
   ]
  },
  {
   "cell_type": "code",
   "execution_count": 63,
   "metadata": {},
   "outputs": [
    {
     "data": {
      "text/html": [
       "<div>\n",
       "<style scoped>\n",
       "    .dataframe tbody tr th:only-of-type {\n",
       "        vertical-align: middle;\n",
       "    }\n",
       "\n",
       "    .dataframe tbody tr th {\n",
       "        vertical-align: top;\n",
       "    }\n",
       "\n",
       "    .dataframe thead th {\n",
       "        text-align: right;\n",
       "    }\n",
       "</style>\n",
       "<table border=\"1\" class=\"dataframe\">\n",
       "  <thead>\n",
       "    <tr style=\"text-align: right;\">\n",
       "      <th></th>\n",
       "      <th>Day</th>\n",
       "      <th>Start</th>\n",
       "      <th>Max</th>\n",
       "      <th>Min</th>\n",
       "      <th>Invalid_Assign</th>\n",
       "      <th>Type</th>\n",
       "    </tr>\n",
       "  </thead>\n",
       "  <tbody>\n",
       "    <tr>\n",
       "      <th>MO8:00</th>\n",
       "      <td>MO</td>\n",
       "      <td>8:00</td>\n",
       "      <td>4</td>\n",
       "      <td>2</td>\n",
       "      <td>[]</td>\n",
       "      <td>P</td>\n",
       "    </tr>\n",
       "    <tr>\n",
       "      <th>TU10:00</th>\n",
       "      <td>TU</td>\n",
       "      <td>10:00</td>\n",
       "      <td>2</td>\n",
       "      <td>1</td>\n",
       "      <td>[]</td>\n",
       "      <td>P</td>\n",
       "    </tr>\n",
       "    <tr>\n",
       "      <th>FR10:00</th>\n",
       "      <td>FR</td>\n",
       "      <td>10:00</td>\n",
       "      <td>2</td>\n",
       "      <td>1</td>\n",
       "      <td>[]</td>\n",
       "      <td>P</td>\n",
       "    </tr>\n",
       "  </tbody>\n",
       "</table>\n",
       "</div>"
      ],
      "text/plain": [
       "        Day  Start Max Min Invalid_Assign Type\n",
       "MO8:00   MO   8:00   4   2             []    P\n",
       "TU10:00  TU  10:00   2   1             []    P\n",
       "FR10:00  FR  10:00   2   1             []    P"
      ]
     },
     "execution_count": 63,
     "metadata": {},
     "output_type": "execute_result"
    }
   ],
   "source": [
    "practice_slots"
   ]
  },
  {
   "cell_type": "markdown",
   "metadata": {},
   "source": [
    "**Example of the Slots table**\n",
    "|  Index  | Day     | Time    | Gamemin | Gamemax | Count   | Invalid_Assign                      | Type   |\n",
    "|  -----  | ------- | ------- | ------- | ------- | ------- | ----------------------------------- | ------ |\n",
    "| MO10:00 | MO      | 10:00   | 3       | 4       | 3       | [CMSAU17T2PRC01, CMSAU13T3DIV02]    | G      |\n",
    "\n",
    "Example for verification:\n",
    "1. Game max hard constraint\n",
    "\n",
    "     ```slotindex[Count] > slotindex[Gamemax]```\n",
    "2. Game min soft constraint\n",
    "\n",
    "     ```slotindex[Count] > slotindex[Gamemin]```\n",
    "3. Incompatible, Divs, Tiers hard constraints\n",
    "\n",
    "     if most recent assignment is x, check if x is in slotindex[Invalid_Assign] ?\n",
    "\n",
    "The following columns are filled during parsing and do not change:\n",
    "- Index\n",
    "- Day\n",
    "- Time \n",
    "- Gamemin\n",
    "- Gamemax\n",
    "\n",
    "The following would need to be updated as assignments are made:\n",
    "- Count: Increment count of appropriate slot for each assignment \n",
    "- Incompatible: Add incompatible pair 'partner' of assigned event (See intended lookup in #3).\n",
    "     - We could also create a list of all events with a given 'tier' by filtering the games/practices dataframes."
   ]
  },
  {
   "cell_type": "code",
   "execution_count": 64,
   "metadata": {},
   "outputs": [],
   "source": [
    "def get_index(event: str):\n",
    "    \"\"\"\n",
    "    Convert a string to desired index in DataFrame\n",
    "    \"\"\"\n",
    "    return event.replace(' ', '')"
   ]
  },
  {
   "cell_type": "code",
   "execution_count": 65,
   "metadata": {},
   "outputs": [
    {
     "name": "stdout",
     "output_type": "stream",
     "text": [
      "CMSA U13T3 DIV  01 \n",
      "CMSA U13T3 DIV 02 \n",
      "CUSA O18 DIV 01 \n",
      "CMSA U17T1 DIV 01 \n",
      "CMSA U13T3 DIV 01 PRC 01 \n",
      "CMSA U13T3 DIV 02 OPN 02 \n",
      "CUSA O18 DIV 01 PRC 01 \n",
      "CMSA U17T1 PRC 01 \n"
     ]
    }
   ],
   "source": [
    "def process_games_practices(data, columns, event_type):\n",
    "    \"\"\"\n",
    "    Processes game and practice data and converts it into a pandas DataFrame.\n",
    "    Args:\n",
    "        data (str): The raw data as a string, where each line represents a game or practice entry.\n",
    "        columns (list): A list of column names for the resulting DataFrame.\n",
    "    Returns:\n",
    "        pd.DataFrame: A DataFrame containing the processed game and practice data.\n",
    "    \"\"\"\n",
    "    \n",
    "    items = []\n",
    "    indices = []\n",
    "    strings = data.split('\\n')\n",
    "    for item in strings:\n",
    "        index = get_index(item)\n",
    "        # print(index)\n",
    "        if len(index) > 0: # If not empty\n",
    "            list_attributes = re.split(r'\\s+', item.strip())\n",
    "            if event_type == 'P' and len(list_attributes) == 6: # Normal practice\n",
    "                print(item)\n",
    "                league, tier, _, divnum, ptype, pnum = list_attributes\n",
    "            elif event_type == 'P' and len(list_attributes) == 4: # Practice used by all Divs\n",
    "                print(item)\n",
    "                league, tier, ptype, pnum = list_attributes\n",
    "                divt = 'DIV'\n",
    "                divnum = ''\n",
    "            elif event_type == 'G' and len(list_attributes) == 4: # Game\n",
    "                print(item)\n",
    "                league, tier, _, divnum = list_attributes\n",
    "                ptype = ''\n",
    "                pnum = ''\n",
    "            else: # Something is wrong\n",
    "                raise ValueError(f\"Invalid data format for event type {event_type}: {item}\")\n",
    "            # Dictionary of this item\n",
    "            items.append({'League': league,\n",
    "                          'Tier': tier,\n",
    "                          'Div': divnum,\n",
    "                          'Practice_Type': ptype,\n",
    "                          'Num': pnum})\n",
    "            indices.append(index)\n",
    "    # DataFrame with items\n",
    "    df = pd.DataFrame(items, index = indices)\n",
    "    df['Type'] = event_type\n",
    "    return df\n",
    "\n",
    "# Process games into a lookup table\n",
    "games = process_games_practices(split_data[4], ['League', 'Tier', 'Div'], 'G')\n",
    "\n",
    "# Process practices into a lookup table\n",
    "practices = process_games_practices(split_data[5], ['League', 'Tier', 'Div', 'Practice_Type', 'Num'], 'P')\n",
    "\n",
    "# Combine Practices and Games\n",
    "events = pd.concat([games, practices], axis=0)\n",
    "\n",
    "# Prepare columns of empty lists\n",
    "events['Unwanted'] = np.empty((len(events), 0)).tolist()\n",
    "events['Incompatible'] = np.empty((len(events), 0)).tolist()\n",
    "events['Pair_with'] = np.empty((len(events), 0)).tolist()"
   ]
  },
  {
   "cell_type": "code",
   "execution_count": 66,
   "metadata": {},
   "outputs": [
    {
     "name": "stdout",
     "output_type": "stream",
     "text": [
      "CMSAU13T3DIV01PRC01,CMSAU13T3DIV02OPN02\n",
      "CMSAU17T1DIV01,CMSAU13T3DIV01\n",
      "CMSAU17T1DIV01,CMSAU13T3DIV02\n",
      "CMSAU17T1PRC01,CMSAU13T3DIV02\n",
      "CMSAU13T3DIV01,CMSAU17T1PRC01\n"
     ]
    }
   ],
   "source": [
    "# Add all not compatible mentions to list in 'Incompatible' column\n",
    "for notcomp in split_data[6].split('\\n'):\n",
    "    string = notcomp.replace(' ', '')\n",
    "    if len(string) > 0: # If not empty\n",
    "        print(string)\n",
    "        event1, event2 = string.strip().split(',')\n",
    "        if event1 in events.index and event2 in events.index:\n",
    "            events.at[event1, 'Incompatible'].append(event2)\n",
    "            events.at[event2, 'Incompatible'].append(event1)\n",
    "        else:\n",
    "            print(f\"Warning: One of the events {event1} or {event2} is not in the events DataFrame.\")"
   ]
  },
  {
   "cell_type": "code",
   "execution_count": 67,
   "metadata": {},
   "outputs": [
    {
     "name": "stdout",
     "output_type": "stream",
     "text": [
      "CMSAU13T3DIV01,MO,8:00\n"
     ]
    }
   ],
   "source": [
    "# Add all unwanted slots to the list in 'Unwanted' column for each event mentioned\n",
    "for unwanted in split_data[7].split('\\n'):\n",
    "    unwanted = unwanted.replace(' ','')\n",
    "    if len(unwanted)>0:\n",
    "        print(unwanted)\n",
    "        event, day, time = unwanted.strip().split(',')\n",
    "        if not event in events.index:\n",
    "            print(f'Entry error: {event} is not in table')\n",
    "        else:\n",
    "            event = get_index(event)\n",
    "            events.at[event, 'Unwanted'].append(day + time)"
   ]
  },
  {
   "cell_type": "code",
   "execution_count": 68,
   "metadata": {},
   "outputs": [
    {
     "name": "stdout",
     "output_type": "stream",
     "text": [
      "TU,9:30,CMSAU13T3DIV01,10\n",
      "MO,8:00,CMSAU13T3DIV01PRC01,3\n",
      "TU,9:30,CMSAU13T3DIV02,10\n",
      "TU,10:00,CMSAU13T3DIV01OPN02,5\n",
      "Entry error: CMSAU13T3DIV01OPN02 is not in table\n",
      "MO,8:00,CMSAU13T3DIV02OPN02,1\n",
      "MO,10:00,CMSAU13T3DIV02OPN02,7\n"
     ]
    }
   ],
   "source": [
    "# Add all slot preferences to the preference and preference value\n",
    "# columns for each event mentioned\n",
    "for pref in split_data[8].split('\\n'):\n",
    "    pref = pref.replace(' ','')\n",
    "    if len(pref) > 0:\n",
    "        print(pref)\n",
    "        day, time, index, value = pref.strip().split(',')\n",
    "        if not index in events.index:\n",
    "            print(f'Entry error: {index} is not in table')\n",
    "        else:\n",
    "            events.at[index, 'Pref'] = day + time\n",
    "            events.at[index, 'Pref_value'] = value\n",
    "events['Pref'] = events['Pref'].fillna('')\n",
    "events['Pref_value'] = events['Pref_value'].fillna(0)"
   ]
  },
  {
   "cell_type": "code",
   "execution_count": 69,
   "metadata": {},
   "outputs": [
    {
     "name": "stdout",
     "output_type": "stream",
     "text": [
      "CUSAO18DIV01,CMSAU17T1DIV01\n"
     ]
    }
   ],
   "source": [
    "for pair in split_data[9].split('\\n'):\n",
    "    string = pair.replace(' ', '')\n",
    "    if len(string) > 0: # If not empty\n",
    "        print(string)\n",
    "        event1, event2 = string.strip().split(',')\n",
    "        if event1 in events.index and event2 in events.index:\n",
    "            events.at[event1, 'Pair_with'].append(event2)\n",
    "            events.at[event2, 'Pair_with'].append(event1)"
   ]
  },
  {
   "cell_type": "code",
   "execution_count": 70,
   "metadata": {},
   "outputs": [
    {
     "name": "stdout",
     "output_type": "stream",
     "text": [
      "['CMSAU13T3DIV01', 'CMSAU13T3DIV02', 'CUSAO18DIV01', 'CMSAU17T1DIV01', 'CMSAU13T3DIV01PRC01', 'CMSAU13T3DIV02OPN02', 'CUSAO18DIV01PRC01', 'CMSAU17T1PRC01']\n"
     ]
    }
   ],
   "source": [
    "available = events.index.tolist()\n",
    "print(available)\n",
    "# Remove events from this list as they are assigned to keep track"
   ]
  },
  {
   "cell_type": "markdown",
   "metadata": {},
   "source": [
    "**Example of the Games Lookup Table**\n",
    "|  Index           | League     | Tier    | Div     | Unwanted | Pref_slot   | Pref_value | Incompatible     | Type | Assigned |\n",
    "|  --------------  | ---------- | ------- | ------- | -------- | ----------- | ---------- | ---------------- | ---- | -------- |\n",
    "|  CMSAU13T3DIV02  | CMSA       | U13T3   | DIV02   | TU9:30   | MO8:00      | 10         | [CMSAU19T3DIV01] | G    |          |\n",
    "\n",
    "\n",
    "**Example of the Practices Lookup Table**\n",
    "|  Index                | League     | Tier    | Div     | Type     | Num      | Unwanted | Pref_slot   | Pref_value | Incompatible     | Type | Assigned |\n",
    "|  -------------------  | ---------- | ------- | ------- | -------- | -------- | -------- | ----------- | ---------- | ---------------- | ---- | -------- |\n",
    "|  CMSAU13T3DIV02OPN03  | CMSA       | U13T3   | DIV02   | OPN      | 03       | TU10:00  | TU17:00     | 10         | [CMSAU13T3DIV02] | P    |\n",
    "\n",
    "**Inner Join creating Events Lookup Table**\n",
    "|  Index                | League     | Tier    | Div     | Type     | Num      | Unwanted | Pref_slot   | Pref_value | Incompatible     | Type | Assigned |\n",
    "|  -------------------  | ---------- | ------- | ------- | -------- | -------- | -------- | ----------- | ---------- | ---------------- | ---- | -------- |\n",
    "|  CMSAU13T3DIV02OPN03  | CMSA       | U13T3   | DIV02   | OPN      | 03       | TU10:00  | TU17:00     | 10         | [CMSAU13T3DIV02] | P    | MO10:00\n",
    "|  CMSAU13T3DIV02       | CMSA       | U13T3   | DIV02   |          |          | TU9:30   | MO8:00      | 5          | [CMSAU19T3DIV01] | G    |\n",
    "\n",
    "Example Verification method:\n",
    "1. Unwanted hard constraint\n",
    "\n",
    "     ```if events['unwanted'] == events['Assigned']```\n",
    "2. Preference soft constraint\n",
    "\n",
    "     ```if assigned /= events['Pref_slot']``` then use ```events['Pref_value']``` to calculate penalty\n",
    "\n",
    "\n",
    "\n",
    "-- Ideas:\n",
    "To calculate the eval function, we can just inner join the Game_slots with the games dataframe and practice slots with the practices dataframe and vectorize values\n"
   ]
  },
  {
   "cell_type": "code",
   "execution_count": 75,
   "metadata": {},
   "outputs": [
    {
     "name": "stdout",
     "output_type": "stream",
     "text": [
      "[('CUSAO18DIV01', 'MO8:00'), ('CUSAO18DIV01PRC01', 'FR10:00')]\n"
     ]
    }
   ],
   "source": [
    "# Partial assignments used when f_trans selects branchs, before random choices\n",
    "partial_assignments = []\n",
    "for assign in split_data[10].split('\\n'):\n",
    "    string = assign.replace(' ', '')\n",
    "    if len(string) > 0: # If not empty\n",
    "        team, day, time = string.strip().split(',')\n",
    "        partial_assignments.append((team, day+time))\n",
    "        events.at[team, 'Part_assign'] = day+time\n",
    "print(partial_assignments)\n",
    "events['Part_assign'] = events['Part_assign'].fillna('')"
   ]
  },
  {
   "cell_type": "code",
   "execution_count": 76,
   "metadata": {},
   "outputs": [
    {
     "data": {
      "text/html": [
       "<div>\n",
       "<style scoped>\n",
       "    .dataframe tbody tr th:only-of-type {\n",
       "        vertical-align: middle;\n",
       "    }\n",
       "\n",
       "    .dataframe tbody tr th {\n",
       "        vertical-align: top;\n",
       "    }\n",
       "\n",
       "    .dataframe thead th {\n",
       "        text-align: right;\n",
       "    }\n",
       "</style>\n",
       "<table border=\"1\" class=\"dataframe\">\n",
       "  <thead>\n",
       "    <tr style=\"text-align: right;\">\n",
       "      <th></th>\n",
       "      <th>League</th>\n",
       "      <th>Tier</th>\n",
       "      <th>Div</th>\n",
       "      <th>Practice_Type</th>\n",
       "      <th>Num</th>\n",
       "      <th>Type</th>\n",
       "      <th>Unwanted</th>\n",
       "      <th>Incompatible</th>\n",
       "      <th>Pair_with</th>\n",
       "      <th>Pref</th>\n",
       "      <th>Pref_value</th>\n",
       "      <th>Part_assign</th>\n",
       "    </tr>\n",
       "  </thead>\n",
       "  <tbody>\n",
       "    <tr>\n",
       "      <th>CMSAU13T3DIV01</th>\n",
       "      <td>CMSA</td>\n",
       "      <td>U13T3</td>\n",
       "      <td>01</td>\n",
       "      <td></td>\n",
       "      <td></td>\n",
       "      <td>G</td>\n",
       "      <td>[MO8:00]</td>\n",
       "      <td>[CMSAU17T1DIV01, CMSAU17T1PRC01]</td>\n",
       "      <td>[]</td>\n",
       "      <td>TU9:30</td>\n",
       "      <td>10</td>\n",
       "      <td></td>\n",
       "    </tr>\n",
       "    <tr>\n",
       "      <th>CMSAU13T3DIV02</th>\n",
       "      <td>CMSA</td>\n",
       "      <td>U13T3</td>\n",
       "      <td>02</td>\n",
       "      <td></td>\n",
       "      <td></td>\n",
       "      <td>G</td>\n",
       "      <td>[]</td>\n",
       "      <td>[CMSAU17T1DIV01, CMSAU17T1PRC01]</td>\n",
       "      <td>[]</td>\n",
       "      <td>TU9:30</td>\n",
       "      <td>10</td>\n",
       "      <td></td>\n",
       "    </tr>\n",
       "    <tr>\n",
       "      <th>CUSAO18DIV01</th>\n",
       "      <td>CUSA</td>\n",
       "      <td>O18</td>\n",
       "      <td>01</td>\n",
       "      <td></td>\n",
       "      <td></td>\n",
       "      <td>G</td>\n",
       "      <td>[]</td>\n",
       "      <td>[]</td>\n",
       "      <td>[CMSAU17T1DIV01]</td>\n",
       "      <td></td>\n",
       "      <td>0</td>\n",
       "      <td>MO8:00</td>\n",
       "    </tr>\n",
       "    <tr>\n",
       "      <th>CMSAU17T1DIV01</th>\n",
       "      <td>CMSA</td>\n",
       "      <td>U17T1</td>\n",
       "      <td>01</td>\n",
       "      <td></td>\n",
       "      <td></td>\n",
       "      <td>G</td>\n",
       "      <td>[]</td>\n",
       "      <td>[CMSAU13T3DIV01, CMSAU13T3DIV02]</td>\n",
       "      <td>[CUSAO18DIV01]</td>\n",
       "      <td></td>\n",
       "      <td>0</td>\n",
       "      <td></td>\n",
       "    </tr>\n",
       "    <tr>\n",
       "      <th>CMSAU13T3DIV01PRC01</th>\n",
       "      <td>CMSA</td>\n",
       "      <td>U13T3</td>\n",
       "      <td>01</td>\n",
       "      <td>PRC</td>\n",
       "      <td>01</td>\n",
       "      <td>P</td>\n",
       "      <td>[]</td>\n",
       "      <td>[CMSAU13T3DIV02OPN02]</td>\n",
       "      <td>[]</td>\n",
       "      <td>MO8:00</td>\n",
       "      <td>3</td>\n",
       "      <td></td>\n",
       "    </tr>\n",
       "    <tr>\n",
       "      <th>CMSAU13T3DIV02OPN02</th>\n",
       "      <td>CMSA</td>\n",
       "      <td>U13T3</td>\n",
       "      <td>02</td>\n",
       "      <td>OPN</td>\n",
       "      <td>02</td>\n",
       "      <td>P</td>\n",
       "      <td>[]</td>\n",
       "      <td>[CMSAU13T3DIV01PRC01]</td>\n",
       "      <td>[]</td>\n",
       "      <td>MO10:00</td>\n",
       "      <td>7</td>\n",
       "      <td></td>\n",
       "    </tr>\n",
       "    <tr>\n",
       "      <th>CUSAO18DIV01PRC01</th>\n",
       "      <td>CUSA</td>\n",
       "      <td>O18</td>\n",
       "      <td>01</td>\n",
       "      <td>PRC</td>\n",
       "      <td>01</td>\n",
       "      <td>P</td>\n",
       "      <td>[]</td>\n",
       "      <td>[]</td>\n",
       "      <td>[]</td>\n",
       "      <td></td>\n",
       "      <td>0</td>\n",
       "      <td>FR10:00</td>\n",
       "    </tr>\n",
       "    <tr>\n",
       "      <th>CMSAU17T1PRC01</th>\n",
       "      <td>CMSA</td>\n",
       "      <td>U17T1</td>\n",
       "      <td></td>\n",
       "      <td>PRC</td>\n",
       "      <td>01</td>\n",
       "      <td>P</td>\n",
       "      <td>[]</td>\n",
       "      <td>[CMSAU13T3DIV02, CMSAU13T3DIV01]</td>\n",
       "      <td>[]</td>\n",
       "      <td></td>\n",
       "      <td>0</td>\n",
       "      <td></td>\n",
       "    </tr>\n",
       "  </tbody>\n",
       "</table>\n",
       "</div>"
      ],
      "text/plain": [
       "                    League   Tier Div Practice_Type Num Type  Unwanted  \\\n",
       "CMSAU13T3DIV01        CMSA  U13T3  01                      G  [MO8:00]   \n",
       "CMSAU13T3DIV02        CMSA  U13T3  02                      G        []   \n",
       "CUSAO18DIV01          CUSA    O18  01                      G        []   \n",
       "CMSAU17T1DIV01        CMSA  U17T1  01                      G        []   \n",
       "CMSAU13T3DIV01PRC01   CMSA  U13T3  01           PRC  01    P        []   \n",
       "CMSAU13T3DIV02OPN02   CMSA  U13T3  02           OPN  02    P        []   \n",
       "CUSAO18DIV01PRC01     CUSA    O18  01           PRC  01    P        []   \n",
       "CMSAU17T1PRC01        CMSA  U17T1               PRC  01    P        []   \n",
       "\n",
       "                                         Incompatible         Pair_with  \\\n",
       "CMSAU13T3DIV01       [CMSAU17T1DIV01, CMSAU17T1PRC01]                []   \n",
       "CMSAU13T3DIV02       [CMSAU17T1DIV01, CMSAU17T1PRC01]                []   \n",
       "CUSAO18DIV01                                       []  [CMSAU17T1DIV01]   \n",
       "CMSAU17T1DIV01       [CMSAU13T3DIV01, CMSAU13T3DIV02]    [CUSAO18DIV01]   \n",
       "CMSAU13T3DIV01PRC01             [CMSAU13T3DIV02OPN02]                []   \n",
       "CMSAU13T3DIV02OPN02             [CMSAU13T3DIV01PRC01]                []   \n",
       "CUSAO18DIV01PRC01                                  []                []   \n",
       "CMSAU17T1PRC01       [CMSAU13T3DIV02, CMSAU13T3DIV01]                []   \n",
       "\n",
       "                        Pref Pref_value Part_assign  \n",
       "CMSAU13T3DIV01        TU9:30         10              \n",
       "CMSAU13T3DIV02        TU9:30         10              \n",
       "CUSAO18DIV01                          0      MO8:00  \n",
       "CMSAU17T1DIV01                        0              \n",
       "CMSAU13T3DIV01PRC01   MO8:00          3              \n",
       "CMSAU13T3DIV02OPN02  MO10:00          7              \n",
       "CUSAO18DIV01PRC01                     0     FR10:00  \n",
       "CMSAU17T1PRC01                        0              "
      ]
     },
     "execution_count": 76,
     "metadata": {},
     "output_type": "execute_result"
    }
   ],
   "source": [
    "events"
   ]
  },
  {
   "cell_type": "markdown",
   "metadata": {},
   "source": [
    "List of strings of games and practices"
   ]
  },
  {
   "cell_type": "code",
   "execution_count": 73,
   "metadata": {},
   "outputs": [],
   "source": [
    "# Strings Example\n",
    "games2 = split_data[3].split('\\n')\n",
    "\n",
    "practice2 = split_data[4].split('\\n')\n",
    "\n",
    "def get_prop(event: str, feature):\n",
    "    \"\"\"\n",
    "    Extracts a specific property from an event string based on the given feature.\n",
    "    Parameters:\n",
    "    event (str): The event string containing various properties separated by spaces or 'DIV'.\n",
    "    feature (str): The feature to extract from the event string. \n",
    "                   Valid options are \"League\", \"Tier\", \"Div\", \"Type\", and \"Num\".\n",
    "    Returns:\n",
    "    str: The extracted property based on the specified feature.\n",
    "    Raises:\n",
    "    ValueError: If the feature is invalid or if the event string does not contain the required number of properties.\n",
    "    \"\"\"\n",
    "    properties = event.strip().split(r'\\s+| DIV')\n",
    "    if feature == \"League\":\n",
    "        return properties[0]\n",
    "    elif feature == \"Tier\":\n",
    "        return properties[1]\n",
    "    elif feature == \"Div\":\n",
    "        return properties[2]\n",
    "    elif feature == \"Type\":\n",
    "        if len(properties) >3:\n",
    "            return properties[3]\n",
    "        else: raise ValueError(\"Called Type on game or Type property is missing in the event data\")\n",
    "    elif feature == \"Num\":\n",
    "        if len(properties) > 4:\n",
    "            return properties[4]\n",
    "        else: raise ValueError(\"Called Num on game or Type property is missing in the event data\")\n",
    "    else:\n",
    "        raise ValueError(\"Invalid feature\")"
   ]
  },
  {
   "cell_type": "markdown",
   "metadata": {},
   "source": [
    "Tracker for games and practices"
   ]
  }
 ],
 "metadata": {
  "kernelspec": {
   "display_name": ".venv",
   "language": "python",
   "name": "python3"
  },
  "language_info": {
   "codemirror_mode": {
    "name": "ipython",
    "version": 3
   },
   "file_extension": ".py",
   "mimetype": "text/x-python",
   "name": "python",
   "nbconvert_exporter": "python",
   "pygments_lexer": "ipython3",
   "version": "3.12.4"
  }
 },
 "nbformat": 4,
 "nbformat_minor": 2
}
