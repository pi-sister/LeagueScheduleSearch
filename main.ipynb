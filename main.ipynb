{
 "cells": [
  {
   "cell_type": "code",
   "execution_count": null,
   "metadata": {},
   "outputs": [],
   "source": [
    "# Installations for your venv\n",
    "%pip install numpy\n",
    "%pip install pandas\n",
    "   # to split strings using regex\n"
   ]
  },
  {
   "cell_type": "markdown",
   "metadata": {},
   "source": [
    "# Imports and Variables"
   ]
  },
  {
   "cell_type": "code",
   "execution_count": null,
   "metadata": {},
   "outputs": [],
   "source": [
    "import os\n",
    "import re\n",
    "import pandas as pd\n",
    "import argparse"
   ]
  },
  {
   "cell_type": "code",
   "execution_count": null,
   "metadata": {},
   "outputs": [],
   "source": [
    "# parser\n",
    "\n",
    "# should take in either a file or user input (terminal)\n",
    "input = input(\"Please enter a text file or positive integers:\\n\")\n",
    "\n",
    "#check if it's a file or positive integers\n",
    "if os.path.isfile(input):\n",
    "    with open(input,\"r\") as inputfile:   #opens file     \n",
    "        data = inputfile.readlines()     #starts reading file\n",
    "        #splits the file based on the key words\n",
    "        split_data = re.split(r\"Name:|Game slots:|Practice slots:|Games:|Practices:|Not compatible:|Unwanted:|Preferences:|Pair:|Partial assignments:\", data, flags=re.IGNORECASE)\n",
    "        print(split_data)"
   ]
  },
  {
   "cell_type": "code",
   "execution_count": null,
   "metadata": {},
   "outputs": [],
   "source": [
    "# Alternative - command line input is always file name and integers?\n",
    "parser = argparse.ArgumentParser(description='Process file name and some integers.')\n",
    "parser.add_argument('file', type=str, help='file name')\n",
    "parser.add_argument('integers', type=int, nargs=8, help='some integers')\n",
    "args = parser.parse_args()\n",
    "\n",
    "# check if file exists\n",
    "file_name = args.file\n",
    "if os.path.isfile(input):\n",
    "    with open(input,\"r\") as inputfile:   #opens file     \n",
    "        data = inputfile.readlines()     #starts reading file\n",
    "        #splits the file based on the key words\n",
    "        split_data = re.split(r\"Name:|Game slots:|Practice slots:|Games:|Practices:|Not compatible:|Unwanted:|Preferences:|Pair:|Partial assignments:\", data, flags=re.IGNORECASE)\n",
    "        print(split_data)\n",
    "else: \n",
    "    print(\"Unable to open file. Please try again.\")\n",
    "    \n",
    "# check if integers are positive\n",
    "if any(i < 0 for i in args.integers):\n",
    "    print(\"Please enter positive integers.\")\n",
    "\n",
    "w_minfilled = args.integers[0]\n",
    "w_pref = args.integers[1]\n",
    "w_pair = args.integers[2]\n",
    "w_secdiff = args.integers[3]\n",
    "pen_gamemin = args.integers[4]\n",
    "pen_pracmin = args.integers[5]\n",
    "pen_notpaired = args.integers[6]\n",
    "pen_section = args.integers[7]"
   ]
  },
  {
   "cell_type": "markdown",
   "metadata": {},
   "source": [
    "## Parse file"
   ]
  },
  {
   "cell_type": "code",
   "execution_count": null,
   "metadata": {},
   "outputs": [],
   "source": [
    "game_slots = []\n",
    "for slot in split_data[1].split('\\n'):\n",
    "    properties = slot.split(', ').strip()\n",
    "    if slot != '':\n",
    "        game_slots.append(properties)\n",
    "game_slots = pd.DataFrame(game_slots) \n",
    "game_slots.columns = ['Day', 'Start', 'Gamemax', 'Gamemin']\n",
    "\n",
    "\n",
    "practice_slots = []\n",
    "for slots in split_data[2].split('\\n'):\n",
    "    properties = slots.split(',').strip()\n",
    "    if slots != '':\n",
    "        practice_slots.append(properties)\n",
    "pd.DataFrame(practice_slots)\n",
    "practice_slots.columns = ['Day', 'Start', 'Practicemax', 'Practicemin']\n",
    "\n",
    "games = []\n",
    "for game in split_data[3].split('\\n'):\n",
    "    properties = game.split(r'\\s+| DIV').strip()\n",
    "    if game != '':\n",
    "        games.append(properties)\n",
    "pd.DataFrame(games)\n",
    "games.columns = ['League', 'Tier', 'Div']\n",
    "\n",
    "practices = []\n",
    "for practice in split_data[4].split('\\n'):\n",
    "    properties = practice.split(r'\\s+| DIV').strip()\n",
    "    if practice != '':\n",
    "        practices.append(properties)\n",
    "pd.DataFrame(practices)\n",
    "practices.columns = ['League', 'Tier', 'Div', 'Type', 'Num']\n",
    "\n",
    "not_compatible = []\n",
    "for notcomp in split_data[5].split('\\n'):\n",
    "    properties = notcomp.split(',').strip()\n",
    "    if notcomp != '':\n",
    "        not_compatible.append(properties)\n"
   ]
  },
  {
   "cell_type": "markdown",
   "metadata": {},
   "source": [
    "# Fwert"
   ]
  },
  {
   "cell_type": "code",
   "execution_count": null,
   "metadata": {},
   "outputs": [],
   "source": [
    "# to do:\n",
    "#   Random\n",
    "#       check if there are less than 4 schedules in our set. \n",
    "#       If there are, set fwert = 0. \n",
    "#       Once this is 0, the random function will be called that Emily made which will return another schedule\n",
    "#   Deletion\n",
    "#       check if there are more schedules in our set than c (a predefined constant).\n",
    "#       if there are, set fwert = 1;\n",
    "#       this will cause deletion to be selected and it will deleted the top schedule in our max heap of schedules (worst one)\n",
    "#   Choose fselect\n",
    "#       if the other two aren't chosen, this one is\n",
    "#       fwert = 2 and this causes it to go into fselect (defined by Kourosh)\n",
    "\n",
    "def fwert(num):\n",
    "    match num:\n",
    "        case 0: # Random\n",
    "            # call random function\n",
    "            # Random()\n",
    "            # add the new schedule to our max heap\n",
    "            return \"zero\"\n",
    "        case 1: # Deletion\n",
    "            return \"one\"\n",
    "        case 2: # fselect\n",
    "            return \"two\"\n",
    "        case default: #fselect\n",
    "            return \"two\"\n",
    "            "
   ]
  },
  {
   "cell_type": "code",
   "execution_count": null,
   "metadata": {},
   "outputs": [],
   "source": []
  }
 ],
 "metadata": {
  "kernelspec": {
   "display_name": ".venv",
   "language": "python",
   "name": "python3"
  },
  "language_info": {
   "name": "python",
   "version": "3.11.9"
  }
 },
 "nbformat": 4,
 "nbformat_minor": 2
}
