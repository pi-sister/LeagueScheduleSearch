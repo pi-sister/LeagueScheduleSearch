{
 "cells": [
  {
   "cell_type": "code",
   "execution_count": null,
   "metadata": {},
   "outputs": [],
   "source": [
    "# Imports for your venv\n",
    "%pip install numpy\n",
    "%pip install pandas\n",
    "import os\n",
    "import re   # to split strings using regex\n"
   ]
  },
  {
   "cell_type": "code",
   "execution_count": null,
   "metadata": {},
   "outputs": [],
   "source": [
    "# parser\n",
    "\n",
    "# should take in either a file or user input (terminal)\n",
    "input = input(\"Please enter a text file or positive integers:\\n\")\n",
    "\n",
    "#check if it's a file or positive integers\n",
    "if os.path.isfile(input):\n",
    "    with open(input,\"r\") as inputfile:   #opens file     \n",
    "        data = inputfile.readlines()     #starts reading file\n",
    "        #splits the file based on the key words\n",
    "        split_data = re.split(r\"Name:|Game slots:|Practice slots:|Games:|Practices:|Not compatible:|Unwanted:|Preferences:|Pair:|Partial assignments:\", data, flags=re.IGNORECASE)\n",
    "        print(split_data)\n",
    "\n",
    "\n"
   ]
  }
 ],
 "metadata": {
  "language_info": {
   "name": "python"
  }
 },
 "nbformat": 4,
 "nbformat_minor": 2
}
